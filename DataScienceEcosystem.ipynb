{
  "nbformat": 4,
  "nbformat_minor": 0,
  "metadata": {
    "colab": {
      "provenance": []
    },
    "kernelspec": {
      "name": "python3",
      "display_name": "Python 3"
    },
    "language_info": {
      "name": "python"
    }
  },
  "cells": [
    {
      "cell_type": "markdown",
      "source": [
        "# Data Science Tools and Ecosystem\n",
        "\n",
        "In this notebook, Data Science Tools and Ecosystem are summarized."
      ],
      "metadata": {
        "id": "SLOcl8nf0zXA"
      }
    },
    {
      "cell_type": "markdown",
      "source": [
        "**Objectives:**\n",
        "* List popular languages used by Data Scientists\n",
        "* List some commonly used libraries used by Data Scientist\n",
        "* List some common tools (open sourse or not) used by Data Scientists\n",
        "* Conduct an example of a basic code snippet in Python\n",
        "* Show an example of unit conversion in Python"
      ],
      "metadata": {
        "id": "G4Kiijhq5bBA"
      }
    },
    {
      "cell_type": "markdown",
      "source": [
        "Some of the popular languages that Data Scientists use are:\n",
        "1. Python\n",
        "2. R (R Studio)\n",
        "3. Java\n",
        "4. Julia\n",
        "5. SQL"
      ],
      "metadata": {
        "id": "TW7QduaX1vuq"
      }
    },
    {
      "cell_type": "markdown",
      "source": [
        "Some of the commonly used libraries used by Data Scientists include:\n",
        "1. Pandas (Python)\n",
        "2. NumPy (Python)\n",
        "3. SciPy (Python)\n",
        "4. Matplotlib (Python)\n",
        "5. Seaborn (Python)"
      ],
      "metadata": {
        "id": "h9yRER942YEQ"
      }
    },
    {
      "cell_type": "markdown",
      "source": [
        "| Data Science Tools |\n",
        "|:----------|\n",
        "|vscode|\n",
        "|github|\n",
        "|Google Cloud Platform (Big Query)|\n",
        "|Jupyter Lite|\n",
        "|Amazon Web Services|\n",
        "|colab.research.google.com|\n",
        "|Kaggle (For practice on real world datasets)|"
      ],
      "metadata": {
        "id": "P882nqmG21ZZ"
      }
    },
    {
      "cell_type": "markdown",
      "source": [
        "Below are a few exmpqales of evaluating arithmetic expressions in Python"
      ],
      "metadata": {
        "id": "dE5peJzF3jS5"
      }
    },
    {
      "cell_type": "code",
      "source": [
        "(3*4)+5 # This is a simple arithmetic expression to multiply then add integers"
      ],
      "metadata": {
        "colab": {
          "base_uri": "https://localhost:8080/"
        },
        "id": "vCTCfHt205l_",
        "outputId": "137c2197-e6e0-43a7-93b6-6cbf1b24f50b"
      },
      "execution_count": 2,
      "outputs": [
        {
          "output_type": "execute_result",
          "data": {
            "text/plain": [
              "17"
            ]
          },
          "metadata": {},
          "execution_count": 2
        }
      ]
    },
    {
      "cell_type": "code",
      "source": [
        "200 / 60 # This will convert 200 minutes to hours by dividing by 60"
      ],
      "metadata": {
        "colab": {
          "base_uri": "https://localhost:8080/"
        },
        "id": "GtAdvQRO4Nxh",
        "outputId": "fe3820cb-e3d1-4562-c6dd-8865a4748f12"
      },
      "execution_count": 3,
      "outputs": [
        {
          "output_type": "execute_result",
          "data": {
            "text/plain": [
              "3.3333333333333335"
            ]
          },
          "metadata": {},
          "execution_count": 3
        }
      ]
    },
    {
      "cell_type": "markdown",
      "source": [
        "## Author\n",
        "Brian Vilnrotter"
      ],
      "metadata": {
        "id": "GsF7URXt5DYo"
      }
    },
    {
      "cell_type": "code",
      "source": [],
      "metadata": {
        "id": "ZA_75u_536Fm"
      },
      "execution_count": null,
      "outputs": []
    }
  ]
}